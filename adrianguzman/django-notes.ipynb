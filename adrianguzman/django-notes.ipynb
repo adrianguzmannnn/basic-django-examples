{
 "cells": [
  {
   "cell_type": "markdown",
   "metadata": {},
   "source": [
    "# Startup"
   ]
  },
  {
   "cell_type": "markdown",
   "metadata": {},
   "source": [
    "To begin a django project, run `django-admin startproject <name of project>`. To run the project, run `python manage.py runserver` and visit `localhost:8000` or `127.0.0.1:8000`. Note that the default port is `8000`. "
   ]
  },
  {
   "cell_type": "markdown",
   "metadata": {},
   "source": [
    "Django projects can have multiple applications to handle various aspects (Blog, Wiki, Forums). To create an application, run `python manage.py startapp <name of application>` or `django-admin start-app <name of application>`. The application will need to be added to `INSTALLED_APPS` in `settings.py`."
   ]
  },
  {
   "cell_type": "markdown",
   "metadata": {},
   "source": [
    "# Architecture"
   ]
  },
  {
   "cell_type": "markdown",
   "metadata": {},
   "source": [
    "This is the overall architecture of a Django applicaiton.\n",
    "\n",
    "- Project\n",
    "    - settings.py (configures the project)\n",
    "    - urls.py (provides URL routing)\n",
    "    - wsgi.py (provides web-hosting hooks for Apache, nginx, etc.)\n",
    "- Application\n",
    "    - admin.py (handles the logic for application oversight)\n",
    "    - apps.py (configures the application)\n",
    "    - models.py (creates database tables, manages queries)\n",
    "    - views.py (provides the response for the HTTP/S requests; serves the HTML/JS payloads)"
   ]
  },
  {
   "cell_type": "markdown",
   "metadata": {},
   "source": [
    "Django follows the *model-view-controller* logic. An HTTP request flows directly to `urls.py`, which maps the endpoint to a function (*a view*). Generally, custom function is imported from `views.py`. The function takes in the `request` and provides an HTML `response`, possible by interfacing with data created/updated/deleted in using `models.py` and/or picking up HTML/JS payloads from `templates` or `static` directories.  "
   ]
  },
  {
   "cell_type": "markdown",
   "metadata": {},
   "source": [
    "# Model"
   ]
  },
  {
   "cell_type": "markdown",
   "metadata": {},
   "source": [
    "Some models.py field types include `CharField`, `TextField`, `EmailField`, `URLField`, `IntegerField`, `DecimalField`, `BooleanField`, and `DateTimeField`. One can use `ForeignKey` or `ManyToMany` attributes to link entries."
   ]
  },
  {
   "cell_type": "markdown",
   "metadata": {},
   "source": [
    "An example of `models.py` is the following.\n",
    "```python\n",
    "\n",
    "from django.db import models\n",
    "\n",
    "class Pet(models.Model):\n",
    "    SEX_CHOICES = [('M', 'Male'), ('F', 'Female')]\n",
    "    name = models.CharField(max_length=100)\n",
    "    submitter = models.CharField(max_length=100)\n",
    "    species = models.CharField(max_length=30)\n",
    "    breed = models.CharField(max_length=30, blank=True)\n",
    "    description = models.TextField()\n",
    "    sex = models.CharField(max_length=1, choices=SEX_CHOICES, blank=True)\n",
    "    submission_date = models.DateTimeField()\n",
    "    age = models.IntegerField(null=True)\n",
    "    vaccinations = models.ManyToManyField('Vaccine', blank=True)\n",
    "\n",
    "class Vaccine(models.Model):\n",
    "    name = models.CharField(max_length=50)\n",
    "```"
   ]
  },
  {
   "cell_type": "markdown",
   "metadata": {},
   "source": [
    "For making changes to the database, run `python manage.py makemigrations`, `python manage.py showmigrations`, and `python manage.py migrate <app name> <number>`."
   ]
  },
  {
   "cell_type": "markdown",
   "metadata": {},
   "source": [
    "One can create their own `manage.py` custom commands by creating a file under `/project/app/management/command/<file.py>`. An example code block (it's ran by typing `python manage.py <file.py>`):\n",
    "```python\n",
    "from csv import DictReader\n",
    "from datetime import datetime\n",
    "\n",
    "from django.core.management import BaseCommand\n",
    "\n",
    "from adoptions.models import Pet, Vaccine\n",
    "from pytz import UTC\n",
    "\n",
    "\n",
    "DATETIME_FORMAT = '%m/%d/%Y %H:%M'\n",
    "\n",
    "VACCINES_NAMES = [\n",
    "    'Canine Parvo',\n",
    "    'Canine Distemper',\n",
    "    'Canine Rabies',\n",
    "    'Canine Leptospira',\n",
    "    'Feline Herpes Virus 1',\n",
    "    'Feline Rabies',\n",
    "    'Feline Leukemia'\n",
    "]\n",
    "\n",
    "ALREDY_LOADED_ERROR_MESSAGE = \"\"\"\n",
    "If you need to reload the pet data from the CSV file,\n",
    "first delete the db.sqlite3 file to destroy the database.\n",
    "Then, run `python manage.py migrate` for a new empty\n",
    "database with tables\"\"\"\n",
    "\n",
    "\n",
    "class Command(BaseCommand):\n",
    "    # Show this when the user types help\n",
    "    help = \"Loads data from pet_data.csv into our Pet mode\"\n",
    "\n",
    "    def handle(self, *args, **options):\n",
    "        if Vaccine.objects.exists() or Pet.objects.exists():\n",
    "            print('Pet data already loaded...exiting.')\n",
    "            print(ALREDY_LOADED_ERROR_MESSAGE)\n",
    "            return\n",
    "        print(\"Creating vaccine data\")\n",
    "        for vaccine_name in VACCINES_NAMES:\n",
    "            vac = Vaccine(name=vaccine_name)\n",
    "            vac.save()\n",
    "        print(\"Loading pet data for pets available for adoption\")\n",
    "        for row in DictReader(open('./pet_data.csv')):\n",
    "            pet = Pet()\n",
    "            pet.name = row['Pet']\n",
    "            pet.submitter = row['Submitter']\n",
    "            pet.species = row['Species']\n",
    "            pet.breed = row['Breed']\n",
    "            pet.description = row['Pet Description']\n",
    "            pet.sex = row['Sex']\n",
    "            pet.age = row['Age']\n",
    "            raw_submission_date = row['submission date']\n",
    "            submission_date = UTC.localize(\n",
    "                datetime.strptime(raw_submission_date, DATETIME_FORMAT))\n",
    "            pet.submission_date = submission_date\n",
    "            pet.save()\n",
    "            raw_vaccination_names = row['vaccinations']\n",
    "            vaccination_names = [name for name in raw_vaccination_names.split('| ') if name]\n",
    "            for vac_name in vaccination_names:\n",
    "                vac = Vaccine.objects.get(name=vac_name)\n",
    "                pet.vaccinations.add(vac)\n",
    "            pet.save()\n",
    "```"
   ]
  },
  {
   "cell_type": "markdown",
   "metadata": {},
   "source": [
    "# Admin"
   ]
  },
  {
   "cell_type": "markdown",
   "metadata": {},
   "source": [
    "To create a new superuser for to access the admin page, run `python manage.py createsuperuser` and interact with the prompt. The `/admin/` endpoint provides an out-of-the-box page. "
   ]
  },
  {
   "cell_type": "markdown",
   "metadata": {},
   "source": [
    "# ORM"
   ]
  },
  {
   "cell_type": "markdown",
   "metadata": {},
   "source": [
    "Run `python manage.py shell` to get a Python session with Django (it's helpful to interface with the ORM). For the example above, a common query is `Pet.objects.all()` or `Pet.objects.get(id=<number>)`.\n",
    "\n",
    "```python\n",
    "# Define the models.\n",
    "\n",
    "from django.db import models\n",
    "\n",
    "\n",
    "class Dealership(models.Model):\n",
    "    owner = models.CharField(max_length=100)\n",
    "    year_established = models.PositiveIntegerField()\n",
    "\n",
    "    def custom_query(self):\n",
    "        return self.car_set.filter(color=\"red\", mileage__lt=30000).order_by(\"-listing_price\")\n",
    "\n",
    "    def __str__(self):\n",
    "        return f\"{self.owner}: {self.year_established}\"\n",
    "\n",
    "\n",
    "class Car(models.Model): \n",
    "    dealership = models.ForeignKey(Dealership, on_delete=models.CASCADE)\n",
    "\n",
    "    make = models.CharField(max_length=50)\n",
    "    model = models.CharField(max_length=50)\n",
    "    year = models.PositiveIntegerField()\n",
    "    color = models.CharField(max_length=20)\n",
    "    mileage = models.PositiveIntegerField()\n",
    "    listing_price = models.PositiveIntegerField()\n",
    "    # Some cars might not have a `sold_price` just yet as they're still part of the dealership.\n",
    "    sold_price = models.PositiveIntegerField(null=True)\n",
    "    # Same comment regarding the `sold_price`.\n",
    "    sold_date = models.DateField(null=True)\n",
    "\n",
    "# Migrate models and do the exercise.\n",
    "\n",
    ">> python manage.py shell\n",
    ">> from cardealership.models import *\n",
    "\n",
    "\n",
    "- Model a dealership with the above fields to hold the cars\n",
    "\n",
    "\n",
    ">> Dealership.objects.create(owner=\"Adrian Guzman\", year_established=1990)\n",
    ">> Dealership.objects.create(owner=\"John Johnson\", year_established=1965)\n",
    ">> Dealership.objects.all()\n",
    "<QuerySet [<Dealership: Adrian Guzman: 1990>, <Dealership: John Johnson: 1965>]>\n",
    "\n",
    "\n",
    "- Model a car with the above fields and instantiate 4 of them with different data\n",
    "\n",
    "\n",
    ">> Car.objects.create(dealership_id=1, make=\"Ford\", model=\"Mustang\", year=2014, color=\"red\", mileage=68421, listing_price=30000, sold_price=27500, sold_date=\"2020-01-01\")\n",
    ">> Car.objects.create(dealership_id=1, make=\"Ford\", model=\"Mustang\", year=2014, color=\"red\", mileage=168421, listing_price=30000, sold_price=27500, sold_date=\"2020-01-01\")\n",
    ">> Car.objects.create(dealership_id=1, make=\"Ford\", model=\"Mustang\", year=2020, color=\"white\", mileage=2000, listing_price=30000, sold_price=27500, sold_date=\"2020-02-01\")\n",
    ">> Car.objects.create(dealership_id=1, make=\"Ford\", model=\"Mustang\", year=2020, color=\"black\", mileage=2000, listing_price=30000, sold_price=27500, sold_date=\"2020-02-01\")\n",
    ">> Car.objects.create(dealership_id=2, make=\"Ford\", model=\"Mustang\", year=1999, color=\"black\", mileage=120000, listing_price=30000, sold_price=27500, sold_date=\"2020-02-01\")\n",
    ">> Car.objects.all()\n",
    "<QuerySet [<Car: Car object (1)>, <Car: Car object (2)>, <Car: Car object (3)>, <Car: Car object (4)>, <Car: Car object (5)>]>\n",
    "\n",
    "\n",
    "- Write a query to find all cars (no matter the dealership) with mileage below an integer limit (e.g. 20,000 miles)\n",
    "\n",
    "\n",
    ">> Car.objects.filter(mileage__lt=70000)\n",
    "<QuerySet [<Car: Car object (1)>, <Car: Car object (3)>, <Car: Car object (4)>]>\n",
    "\n",
    "\n",
    "- Write a query to find all dealerships that have more than 3 cars on their lot that were established after 1980\n",
    "\n",
    "\n",
    ">> from django.db.models import Count\n",
    ">> Dealership.objects.annotate(car_count=Count(\"car\")).filter(car_count__gt=3, year_established__gt=1980)\n",
    "<QuerySet [<Dealership: Adrian Guzman: 1990>]>\n",
    "\n",
    "\n",
    "- Write a method for the dealership model that returns only red Fords under 30,000 miles on their lot, ordered by price descending\n",
    "\n",
    "\n",
    ">> Car.objects.create(dealership_id=1, make=\"Ford\", model=\"Mustang\", year=2014, color=\"red\", mileage=1000, listing_price=1000, sold_price=27500, sold_date=\"2020-01-01\")\n",
    ">> Car.objects.create(dealership_id=1, make=\"Ford\", model=\"Mustang\", year=2014, color=\"red\", mileage=3000, listing_price=3000, sold_price=27500, sold_date=\"2020-01-01\")\n",
    ">> Dealership.objects.get(id=1).custom_query()\n",
    "<QuerySet [<Car: Car object (7)>, <Car: Car object (6)>]>\n",
    "\n",
    "```"
   ]
  },
  {
   "cell_type": "markdown",
   "metadata": {},
   "source": [
    "# URL Routing"
   ]
  },
  {
   "cell_type": "markdown",
   "metadata": {},
   "source": [
    "Examples for routing performed in `urls.py` is shown here:\n",
    "\n",
    "Example 1:\n",
    "```python\n",
    "from django.contrib import admin\n",
    "from django.urls import path\n",
    "from django.conf.urls import url\n",
    "from demonstration.views import Views\n",
    "\n",
    "urlpatterns = [\n",
    "    path(r'admin/', admin.site.urls),\n",
    "    url(r'^$', Views.home, name='home')\n",
    "]\n",
    "```\n",
    "\n",
    "Example 2:\n",
    "```python\n",
    "urlpatterns = [\n",
    "    path('admin/', admin.site.urls),\n",
    "    path('', views.home, name='home'),\n",
    "    path('adoptions/<int:pet_id>/', views.pet_detail, name='pet_detail')\n",
    "]\n",
    "```\n",
    "\n",
    "Note that `Example 2` uses the path converted `<int:pet_id>` to dynamically take in arguments from the URL. These in turn can be used to query the database for specific items."
   ]
  },
  {
   "cell_type": "markdown",
   "metadata": {},
   "source": [
    "# Views"
   ]
  },
  {
   "cell_type": "markdown",
   "metadata": {},
   "source": [
    "Most of the custom-developed software will live in `views.py`, which serves to handle the requests and produce an app-level response. Using the sample Python code above, a sample code block would be:\n",
    "```python\n",
    "from django.shortcuts import render\n",
    "from django.http import Http404\n",
    "\n",
    "from .models import Pet\n",
    "\n",
    "def home(request):\n",
    "    pets = Pet.objects.all()\n",
    "    return render(request, 'home.html', {\n",
    "        'pets': pets,\n",
    "    })\n",
    "\n",
    "def pet_detail(request, pet_id):\n",
    "    try:\n",
    "        pet = Pet.objects.get(id=pet_id)\n",
    "    except Pet.DoesNotExist:\n",
    "        raise Http404('pet not found')\n",
    "    return render(request, 'pet_detail.html', {\n",
    "        'pet': pet,\n",
    "    })\n",
    "```"
   ]
  },
  {
   "cell_type": "markdown",
   "metadata": {},
   "source": [
    "# Templates"
   ]
  },
  {
   "cell_type": "markdown",
   "metadata": {},
   "source": [
    "## Jinja Templating"
   ]
  },
  {
   "cell_type": "markdown",
   "metadata": {},
   "source": [
    "When rendering HTML, one can use templating to passing variables from `views.py` into their `templates/` files. Using `{{ }}` for variables and `{% %}` for looping/conditionals. The `|` is used to apply either built-in filters or custom-built filters."
   ]
  },
  {
   "cell_type": "markdown",
   "metadata": {},
   "source": [
    "A `home.html` example is:\n",
    "```html\n",
    "{% extends \"base.html\" %}\n",
    "{% block content %}\n",
    "<div>\n",
    "    {% for pet in pets %}\n",
    "        <div class=\"petname\">\n",
    "            <a href=\"{% url 'pet_detail' pet.id %}\">\n",
    "            <h3>{{ pet.name|capfirst }}</h3>\n",
    "            </a>\n",
    "            <p>{{ pet.species }}</p>\n",
    "            {% if pet.breed %}\n",
    "                <p>Breed: {{ pet.breed }}</p>\n",
    "            {% endif %}\n",
    "            <p class=\"hidden\">{{ pet.description }}</p>\n",
    "        </div>\n",
    "    {% endfor %}\n",
    "</div>\n",
    "{% endblock %}\n",
    "```\n",
    "while a `pet_detail` example is:\n",
    "```html\n",
    "{% extends \"base.html\" %}\n",
    "{% block content %}\n",
    "<div>\n",
    "    <h3>{{ pet.name|capfirst }}</h3>\n",
    "    <p>{{ pet.species }}</p>\n",
    "    {% if pet.breed %}\n",
    "        <p>Breed: {{ pet.breed }}</p>\n",
    "    {% endif %}\n",
    "    {% if pet.age %}\n",
    "        <p>Age: {{ pet.age }}</p>\n",
    "    {% endif %}\n",
    "    {% if pet.sex %}\n",
    "        <p>Sex: {{ pet.sex }}</p>\n",
    "    {% endif %}\n",
    "    {% if pet.vaccinations.all %}\n",
    "        <p>Vaccinations for:</p>\n",
    "        <ul>\n",
    "            {% for vaccination in pet.vaccinations.all %}\n",
    "                <li>{{ vaccination.name }}</li>\n",
    "            {% endfor %}\n",
    "        </ul>\n",
    "    {% endif %}\n",
    "    <p>Submitted by: {{ pet.submitter }}</p>\n",
    "    <p>Submitted on: {{ pet.submission_date|date:\"M d Y\" }}</p>\n",
    "    <p>{{ pet.description }}</p>\n",
    "</div>\n",
    "{% endblock %}\n",
    "```"
   ]
  }
 ],
 "metadata": {
  "kernelspec": {
   "display_name": "Python 3",
   "language": "python",
   "name": "python3"
  },
  "language_info": {
   "codemirror_mode": {
    "name": "ipython",
    "version": 3
   },
   "file_extension": ".py",
   "mimetype": "text/x-python",
   "name": "python",
   "nbconvert_exporter": "python",
   "pygments_lexer": "ipython3",
   "version": "3.7.3"
  }
 },
 "nbformat": 4,
 "nbformat_minor": 2
}
